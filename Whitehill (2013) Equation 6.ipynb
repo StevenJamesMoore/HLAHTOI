{
 "cells": [
  {
   "cell_type": "code",
   "execution_count": 79,
   "metadata": {},
   "outputs": [],
   "source": [
    "import numpy as np\n",
    "import pandas as pd\n",
    "\n",
    "#Using the same leanrer history as Danny's DASH vs ACT-R comparison\n",
    "#https://github.com/DannyWeitekamp/HLAHTOI/blob/master/assignment1/DASH.ipynb\n",
    "def day(x):\n",
    "    return x * 86400.0\n",
    "def hour(x):\n",
    "    return x * 3600\n",
    "def mins(x):\n",
    "    return x * 60\n",
    "\n",
    "cram_h = [\n",
    "    day(0)+hour(0)+mins(1),\n",
    "    day(0)+hour(0)+mins(2),\n",
    "    day(0)+hour(0)+mins(3),\n",
    "    day(2)+hour(4)+mins(31),\n",
    "    day(2)+hour(4)+mins(32),\n",
    "    day(2)+hour(4)+mins(33),\n",
    "    day(2)+hour(4)+mins(34),\n",
    "    day(2)+hour(4)+mins(35),\n",
    "    day(2)+hour(4)+mins(36),\n",
    "    day(2)+hour(4)+mins(37),\n",
    "    day(2)+hour(4)+mins(38),\n",
    "]\n",
    "\n",
    "spaced_h = [\n",
    "    day(0)+hour(0)+mins(1),\n",
    "    day(0)+hour(0)+mins(2),\n",
    "    day(0)+hour(0)+mins(3),\n",
    "    day(1)+hour(4)+mins(31),\n",
    "    day(1)+hour(5)+mins(32),\n",
    "    day(1)+hour(6)+mins(33),\n",
    "    day(1)+hour(7)+mins(34),\n",
    "    day(2)+hour(1)+mins(35),\n",
    "    day(2)+hour(2)+mins(36),\n",
    "    day(2)+hour(3)+mins(37),\n",
    "    day(2)+hour(4)+mins(38),\n",
    "]\n",
    "\n",
    "massed_h = [\n",
    "    day(0)+hour(0)+mins(1),\n",
    "    day(0)+hour(0)+mins(2),\n",
    "    day(0)+hour(0)+mins(3),\n",
    "    day(0)+hour(1)+mins(31),\n",
    "    day(0)+hour(1)+mins(32),\n",
    "    day(0)+hour(1)+mins(33),\n",
    "    day(0)+hour(1)+mins(34),\n",
    "    day(0)+hour(1)+mins(35),\n",
    "    day(0)+hour(1)+mins(36),\n",
    "    day(0)+hour(1)+mins(37),\n",
    "    day(0)+hour(1)+mins(38),\n",
    "]\n",
    "\n",
    "now = day(2)+hour(5)\n",
    "\n",
    "cram_times = now - np.array(cram_h)\n",
    "spaced_times = now - np.array(spaced_h)\n",
    "massed_times = now - np.array(massed_h)"
   ]
  },
  {
   "cell_type": "code",
   "execution_count": 80,
   "metadata": {},
   "outputs": [],
   "source": [
    "#Equation 6\n",
    "def summation(timeElapsed):\n",
    "    #d_1 (a constant) is the decay rate of the first learning event for the chunk\n",
    "    #b is a constant\n",
    "    #Not 100% sure how to calculate these constants, which have a BIG impact...\n",
    "    d_1 = .01\n",
    "    b = .05\n",
    "    \n",
    "    #The difference tk−1 − tk expresses the spacing effect, aka timeElapsed\n",
    "    t = timeElapsed #prevTime - currTime\n",
    "    d = max(d_1, b * pow(t,-d_1))\n",
    "    \n",
    "    return d\n",
    "\n",
    "def whitehill_equation_6(lh):\n",
    "    B = 0 #Start\n",
    "    s = []\n",
    "    for i, val in enumerate(lh):\n",
    "        s.append(summation(val))\n",
    "    \n",
    "    return np.log(sum(s)) + B"
   ]
  },
  {
   "cell_type": "code",
   "execution_count": 81,
   "metadata": {},
   "outputs": [
    {
     "name": "stdout",
     "output_type": "stream",
     "text": [
      "Crammed: 68.41\n",
      "Spaced: 70.31\n",
      "Massed: 71.92\n"
     ]
    }
   ],
   "source": [
    "crammed = whitehill_equation_6(cram_times)\n",
    "spaced = whitehill_equation_6(spaced_times)\n",
    "massed = whitehill_equation_6(massed_times)\n",
    "\n",
    "print('Crammed: ' + str(\"%.2f\" % (-100 * crammed)))\n",
    "print('Spaced: ' + str(\"%.2f\" % (-100 * spaced)))\n",
    "print('Massed: ' + str(\"%.2f\" % (-100 * massed)))\n",
    "\n",
    "#Using equation 6 which incorporates forgetting as decay with Danny's data, it looks liked Massed wins, with Spaced being quite close."
   ]
  },
  {
   "cell_type": "code",
   "execution_count": null,
   "metadata": {},
   "outputs": [],
   "source": []
  }
 ],
 "metadata": {
  "kernelspec": {
   "display_name": "Python 3",
   "language": "python",
   "name": "python3"
  },
  "language_info": {
   "codemirror_mode": {
    "name": "ipython",
    "version": 3
   },
   "file_extension": ".py",
   "mimetype": "text/x-python",
   "name": "python",
   "nbconvert_exporter": "python",
   "pygments_lexer": "ipython3",
   "version": "3.7.3"
  }
 },
 "nbformat": 4,
 "nbformat_minor": 2
}
