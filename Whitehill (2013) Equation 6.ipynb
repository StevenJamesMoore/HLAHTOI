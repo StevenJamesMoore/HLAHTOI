{
 "cells": [
  {
   "cell_type": "markdown",
   "metadata": {},
   "source": [
    "This is an implementation of equation 6 from the Whitehill (2013) paper."
   ]
  },
  {
   "cell_type": "markdown",
   "metadata": {},
   "source": [
    "![alt text](equation_6.png \"Title\")"
   ]
  },
  {
   "cell_type": "code",
   "execution_count": 1,
   "metadata": {},
   "outputs": [],
   "source": [
    "import numpy as np\n",
    "import pandas as pd\n",
    "\n",
    "#Using the same leanrer history as Danny's DASH vs ACT-R comparison\n",
    "#https://github.com/DannyWeitekamp/HLAHTOI/blob/master/assignment1/DASH.ipynb\n",
    "def day(x):\n",
    "    return x * 86400.0\n",
    "def hour(x):\n",
    "    return x * 3600\n",
    "def mins(x):\n",
    "    return x * 60\n",
    "\n",
    "massed_short_h = [\n",
    "    day(12)+hour(7)+mins(50),\n",
    "    day(12)+hour(7)+mins(51),\n",
    "    day(12)+hour(7)+mins(52),\n",
    "    day(12)+hour(7)+mins(53),\n",
    "    day(12)+hour(7)+mins(54),\n",
    "    day(12)+hour(7)+mins(55),\n",
    "    day(12)+hour(7)+mins(56),\n",
    "    day(12)+hour(7)+mins(57),\n",
    "    day(12)+hour(7)+mins(58),\n",
    "    day(12)+hour(7)+mins(59),\n",
    "    day(12)+hour(8)+mins(0),\n",
    "]\n",
    "\n",
    "massed_long_h = [\n",
    "    day(11)+hour(7)+mins(50),\n",
    "    day(11)+hour(7)+mins(51),\n",
    "    day(11)+hour(7)+mins(52),\n",
    "    day(11)+hour(7)+mins(53),\n",
    "    day(11)+hour(7)+mins(54),\n",
    "    day(11)+hour(7)+mins(55),\n",
    "    day(11)+hour(7)+mins(56),\n",
    "    day(11)+hour(7)+mins(57),\n",
    "    day(11)+hour(7)+mins(58),\n",
    "    day(11)+hour(7)+mins(59),\n",
    "    day(11)+hour(8)+mins(0),\n",
    "]\n",
    "\n",
    "spaced_short_h = [\n",
    "    day(2)+hour(8)+mins(0),\n",
    "    day(3)+hour(8)+mins(0),\n",
    "    day(4)+hour(8)+mins(0),\n",
    "    day(5)+hour(8)+mins(0),\n",
    "    day(6)+hour(8)+mins(0),\n",
    "    day(7)+hour(8)+mins(0),\n",
    "    day(8)+hour(8)+mins(0),\n",
    "    day(9)+hour(8)+mins(0),\n",
    "    day(10)+hour(8)+mins(0),\n",
    "    day(11)+hour(8)+mins(0),\n",
    "    day(12)+hour(8)+mins(0),\n",
    "]\n",
    "\n",
    "spaced_long_h = [\n",
    "    day(1)+hour(8)+mins(0),\n",
    "    day(2)+hour(8)+mins(0),\n",
    "    day(3)+hour(8)+mins(0),\n",
    "    day(4)+hour(8)+mins(0),\n",
    "    day(5)+hour(8)+mins(0),\n",
    "    day(6)+hour(8)+mins(0),\n",
    "    day(7)+hour(8)+mins(0),\n",
    "    day(8)+hour(8)+mins(0),\n",
    "    day(9)+hour(8)+mins(0),\n",
    "    day(10)+hour(8)+mins(0),\n",
    "    day(11)+hour(8)+mins(0),\n",
    "]\n",
    "\n",
    "now = day(12)+hour(8)+mins(10)\n",
    "\n",
    "m_short_times = now - np.array(massed_short_h)\n",
    "m_long_times = now - np.array(massed_long_h)\n",
    "s_short_times = now - np.array(spaced_short_h)\n",
    "s_long_times = now - np.array(spaced_long_h)\n",
    "\n",
    "#cram_times = now - np.array(cram_h)\n",
    "#spaced_times = now - np.array(spaced_h)\n",
    "#massed_times = now - np.array(massed_h)"
   ]
  },
  {
   "cell_type": "code",
   "execution_count": 2,
   "metadata": {},
   "outputs": [],
   "source": [
    "#Equation 6\n",
    "def summation(timeElapsed):\n",
    "    #d_1 (a constant) is the decay rate of the first learning event for the chunk\n",
    "    #b is a constant\n",
    "    #Not 100% sure how to calculate these constants, which have a BIG impact...\n",
    "    d_1 = .01\n",
    "    b = .05\n",
    "    \n",
    "    #The difference tk−1 − tk expresses the spacing effect, aka timeElapsed\n",
    "    t = timeElapsed #prevTime - currTime\n",
    "    d = max(d_1, b * pow(t,-d_1))\n",
    "    \n",
    "    return d\n",
    "\n",
    "def whitehill_equation_6(lh):\n",
    "    B = 0 #Start\n",
    "    s = []\n",
    "    for i, val in enumerate(lh):\n",
    "        s.append(summation(val))\n",
    "    \n",
    "    return np.log(sum(s)) + B"
   ]
  },
  {
   "cell_type": "code",
   "execution_count": 3,
   "metadata": {},
   "outputs": [
    {
     "name": "stdout",
     "output_type": "stream",
     "text": [
      "Massed - Short: 66.56\n",
      "Massed - Long: 71.16\n",
      "Spaced - Short: 72.05\n",
      "Spaced - Long: 72.74\n"
     ]
    }
   ],
   "source": [
    "#crammed = whitehill_equation_6(cram_times)\n",
    "#spaced = whitehill_equation_6(spaced_times)\n",
    "#massed = whitehill_equation_6(massed_times)\n",
    "m_short = whitehill_equation_6(m_short_times)\n",
    "m_long = whitehill_equation_6(m_long_times)\n",
    "s_short = whitehill_equation_6(s_short_times)\n",
    "s_long = whitehill_equation_6(s_long_times)\n",
    "\n",
    "print('Massed - Short: ' + str(\"%.2f\" % (-100 * m_short)))\n",
    "print('Massed - Long: ' + str(\"%.2f\" % (-100 * m_long)))\n",
    "print('Spaced - Short: ' + str(\"%.2f\" % (-100 * s_short)))\n",
    "print('Spaced - Long: ' + str(\"%.2f\" % (-100 * s_long)))\n",
    "\n",
    "#Using equation 6 which incorporates forgetting as decay with Danny's data, it looks liked Massed wins, with Spaced being quite close."
   ]
  },
  {
   "cell_type": "code",
   "execution_count": null,
   "metadata": {},
   "outputs": [],
   "source": []
  }
 ],
 "metadata": {
  "kernelspec": {
   "display_name": "Python 3",
   "language": "python",
   "name": "python3"
  },
  "language_info": {
   "codemirror_mode": {
    "name": "ipython",
    "version": 3
   },
   "file_extension": ".py",
   "mimetype": "text/x-python",
   "name": "python",
   "nbconvert_exporter": "python",
   "pygments_lexer": "ipython3",
   "version": "3.7.3"
  }
 },
 "nbformat": 4,
 "nbformat_minor": 2
}
